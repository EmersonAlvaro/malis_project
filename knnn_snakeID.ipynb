{
  "cells": [
    {
      "cell_type": "code",
      "execution_count": null,
      "metadata": {
        "id": "nmtHt7Kox27m"
      },
      "outputs": [],
      "source": [
        "from __future__ import absolute_import, division, print_function, unicode_literals\n",
        "import numpy as np\n",
        "import pandas as pd\n",
        "import os\n",
        "import pathlib\n",
        "import sys\n",
        "import random\n",
        "import shutil\n",
        "import cv2 as cv\n",
        "import matplotlib.pyplot as plt\n",
        "from operator import itemgetter\n",
        "from sklearn import metrics\n",
        "from sklearn.model_selection import KFold\n",
        "from sklearn.model_selection import StratifiedKFold\n",
        "\n",
        "from scipy.spatial import distance "
      ]
    },
    {
      "cell_type": "code",
      "execution_count": null,
      "metadata": {
        "colab": {
          "base_uri": "https://localhost:8080/"
        },
        "id": "3PBPmWDCyB-m",
        "outputId": "302ec8a9-9acb-4b90-ccf6-5a25926a89e3"
      },
      "outputs": [],
      "source": [
        "from google.colab import drive\n",
        "drive.mount('/content/drive')"
      ]
    },
    {
      "cell_type": "code",
      "execution_count": null,
      "metadata": {
        "id": "jThdj9z0x27s"
      },
      "outputs": [],
      "source": [
        "data = pathlib.Path('/content/drive/My Drive/datasetproject/')\n",
        "train_data = pathlib.Path('/content/drive/My Drive/datasetproject/train')\n",
        "test_data = pathlib.Path('/content/drive/My Drive/datasetproject/test')\n",
        "\n",
        "K = 3\n",
        "\n",
        "num_class = 8\n",
        "IMAGE_SIZE = 256\n",
        "num_folds = 10\n",
        "\n",
        "# container for metrics\n",
        "acc_folds = []\n",
        "f1_folds = []\n",
        "prec_folds = []\n",
        "recall_folds = []"
      ]
    },
    {
      "cell_type": "markdown",
      "metadata": {
        "id": "Ca-yNRTc_RNy"
      },
      "source": [
        "Histogram of Image"
      ]
    },
    {
      "cell_type": "code",
      "execution_count": null,
      "metadata": {
        "id": "u3XYioFp_RNz"
      },
      "outputs": [],
      "source": [
        "def HECOLOR (image):\n",
        "    channels = cv.split(image)\n",
        "    eq_channels = []\n",
        "    for ch, color in zip(channels, ['B', 'G', 'R']):\n",
        "        eq_channels.append(cv.equalizeHist(ch))\n",
        "\n",
        "    eq_image = cv.merge(eq_channels)\n",
        "    eq_image = cv.cvtColor(eq_image, cv.COLOR_BGR2RGB)\n",
        "\n",
        "    return eq_image/255"
      ]
    },
    {
      "cell_type": "markdown",
      "metadata": {
        "id": "KlBEn2-2_RN0"
      },
      "source": [
        "Load the dataset and cal the Histogram"
      ]
    },
    {
      "cell_type": "code",
      "execution_count": null,
      "metadata": {
        "id": "un6jDvF7x27t"
      },
      "outputs": [],
      "source": [
        "def load_data(data_directory):\n",
        "    directories = [d for d in os.listdir(data_directory)\n",
        "                   if os.path.isdir(os.path.join(data_directory, d))]\n",
        "    labels = []\n",
        "    images = []\n",
        "    for d in directories:\n",
        "        label_directory = os.path.join(data_directory, d)\n",
        "        file_names = [os.path.join(label_directory, f)\n",
        "                      for f in os.listdir(label_directory)]\n",
        "        \n",
        "        for f in file_names:\n",
        "            img = cv.imread(f)\n",
        "            img = cv.resize(img, (IMAGE_SIZE, IMAGE_SIZE))\n",
        "            ######################################\n",
        "            # 1 - Calculate the Histo/ Hough\n",
        "            # 2 - Convert to numpy array\n",
        "            ######################################\n",
        "            img = np.array(HECOLOR(img))\n",
        "            \n",
        "            images.append(img/255)\n",
        "            labels.append(int(d))\n",
        "\n",
        "    images, labels = np.asarray(images), np.asarray(labels)\n",
        "\n",
        "    return images, labels\n"
      ]
    },
    {
      "cell_type": "code",
      "execution_count": null,
      "metadata": {
        "id": "wKaEs3fmx27v"
      },
      "outputs": [],
      "source": [
        "\n",
        "class KNN:\n",
        "    '''\n",
        "    k nearest neighboors algorithm class\n",
        "    __init__() initialize the model\n",
        "    train() trains the model\n",
        "    predict() predict the class for a new point\n",
        "    '''\n",
        "\n",
        "    def __init__(self, K):\n",
        "        '''\n",
        "        INPUT :\n",
        "        - K : is a natural number bigger than 0 \n",
        "        '''        \n",
        "        # empty initialization of X and y\n",
        "        self.X = []\n",
        "        self.y = []\n",
        "        # K is the parameter of the algorithm representing the number of neighborhoods\n",
        "        self.k = K\n",
        "        \n",
        "    def fit(self,X,y):\n",
        "        '''\n",
        "        INPUT :\n",
        "        - X : is a 2D Nx2 numpy array containing the coordinates of points\n",
        "        - y : is a 1D Nx1 numpy array containing the labels for the corrisponding row of X\n",
        "        '''        \n",
        "        \n",
        "        self.X=X.copy() # copy your training points\n",
        "        self.y=y.copy()\n",
        "       \n",
        "    def predict(self,X_new):\n",
        "        '''\n",
        "        INPUT :\n",
        "        - X_new : is a Mx2 numpy array containing the coordinates of new points whose label has to be predicted\n",
        "        \n",
        "        OUTPUT :\n",
        "        - y_hat : is a Mx1 numpy array containing the predicted labels for the X_new points\n",
        "        ''' \n",
        "            \n",
        "        ######### YOUR CODE HERE - do not delete this line ################\n",
        "        dist = []\n",
        "        y_hat = []\n",
        "        for i in range(len(X_new)):\n",
        "            dist *= 0\n",
        "            for j in range(len(self.X)):\n",
        "                d = distance.euclidean(X_new[i],self.X[j])\n",
        "                # Appende the label relatade to X_new in i position with the euclidean distance\n",
        "                dist.append((self.y[j],d))\n",
        "\n",
        "            # Sort the euclidean distance\n",
        "            dist.sort(key=itemgetter(1))\n",
        "    \n",
        "            # Find the k n closest labes \n",
        "            dist_length = len(dist) \n",
        "            for n in range (0, (dist_length-self.k)):\n",
        "                dist.pop()\n",
        "            mp = list(map(itemgetter(0), dist))\n",
        "            label = max(mp, key=mp.count)\n",
        "            y_hat.append(label)\n",
        "\n",
        "        y_hat = np.array(y_hat)\n",
        "\n",
        "        return y_hat"
      ]
    },
    {
      "cell_type": "code",
      "execution_count": null,
      "metadata": {
        "colab": {
          "base_uri": "https://localhost:8080/"
        },
        "id": "1irvvSnix27z",
        "outputId": "34bb64f2-74f3-4281-d77c-3eacebfa7f8a"
      },
      "outputs": [],
      "source": [
        "K = 7\n",
        "\n",
        "imagens, labels = load_data(str(train_data))\n",
        "imagens = imagens.reshape((imagens.shape[0], IMAGE_SIZE*IMAGE_SIZE*3))\n",
        "\n",
        "print('[INFO]: Training Features Matrix: {:.1f}MB'.format(float(imagens.nbytes / 1024*1000.0)))\n",
        "\n",
        "imgs_test, labs_test = load_data(test_data)\n",
        "imgs_test = imgs_test.reshape((imgs_test.shape[0], IMAGE_SIZE*IMAGE_SIZE*3))\n",
        "\n",
        "print('[INFO]: Testing Features Matrix: {:.1f}MB'.format(float(imgs_test.nbytes / 1024*1000.0)))\n",
        "\n",
        "print('[INFO]: Classification starting....')\n",
        "\n",
        "list_k = [1, 2, 3, 4, 5, 7, 9, 11, 12, 15, 17, 20, 25, 30]\n",
        "\n",
        "for k in list_k:\n",
        "  model = KNN(K=k)\n",
        "  model.fit(imagens, labels)\n",
        "  \n",
        "  print(\"Training...... knn with k = {}\".format(k))\n",
        "\n",
        "  labs_predict = model.predict(imgs_test)\n",
        "  \n",
        "  accuracy = metrics.accuracy_score(labs_test, labs_predict)\n",
        "  print(\"The k = {} accuracy= {}\".format(k, accuracy))\n"
      ]
    }
  ],
  "metadata": {
    "colab": {
      "collapsed_sections": [],
      "name": "knnn_snakeID.ipynb",
      "provenance": []
    },
    "interpreter": {
      "hash": "307064ab1b0a1923a6ed8a3693f1590945beb620e492c85a4ee4a159e00cd3fc"
    },
    "kernelspec": {
      "display_name": "Python 3.8.12 64-bit ('deep': conda)",
      "language": "python",
      "name": "python3"
    },
    "language_info": {
      "codemirror_mode": {
        "name": "ipython",
        "version": 3
      },
      "file_extension": ".py",
      "mimetype": "text/x-python",
      "name": "python",
      "nbconvert_exporter": "python",
      "pygments_lexer": "ipython3",
      "version": "3.8.12"
    },
    "orig_nbformat": 4
  },
  "nbformat": 4,
  "nbformat_minor": 0
}
